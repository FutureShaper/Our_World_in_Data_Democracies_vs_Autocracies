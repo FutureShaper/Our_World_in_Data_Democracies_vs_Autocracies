{
 "cells": [
  {
   "cell_type": "code",
   "execution_count": 1,
   "id": "b9123e16",
   "metadata": {
    "_cell_guid": "b1076dfc-b9ad-4769-8c92-a6c4dae69d19",
    "_uuid": "8f2839f25d086af736a60e9eeb907d3b93b6e0e5",
    "execution": {
     "iopub.execute_input": "2023-09-06T12:40:46.480927Z",
     "iopub.status.busy": "2023-09-06T12:40:46.480507Z",
     "iopub.status.idle": "2023-09-06T12:40:46.897235Z",
     "shell.execute_reply": "2023-09-06T12:40:46.895908Z"
    },
    "papermill": {
     "duration": 0.42515,
     "end_time": "2023-09-06T12:40:46.899969",
     "exception": false,
     "start_time": "2023-09-06T12:40:46.474819",
     "status": "completed"
    },
    "tags": []
   },
   "outputs": [
    {
     "name": "stdout",
     "output_type": "stream",
     "text": [
      "Index(['Entity', 'Code', 'Year', 'number_closedaut_row_owid',\n",
      "       'number_electaut_row_owid', 'number_electdem_row_owid',\n",
      "       'number_libdem_row_owid'],\n",
      "      dtype='object')\n"
     ]
    }
   ],
   "source": [
    "import pandas as pd\n",
    "\n",
    "# Load the CSV file into a DataFrame\n",
    "df = pd.read_csv('/kaggle/input/2023-09-06-owid-democracies-vs-autocracies/countries-democracies-autocracies-row.csv')\n",
    "\n",
    "# Output the column names\n",
    "print(df.columns)"
   ]
  }
 ],
 "kernelspec": {
  "display_name": "Python 3",
  "language": "python",
  "name": "python3"
 },
 "language_info": {
  "codemirror_mode": {
   "name": "ipython",
   "version": 3
  },
  "file_extension": ".py",
  "mimetype": "text/x-python",
  "name": "python",
  "nbconvert_exporter": "python",
  "pygments_lexer": "ipython3",
  "version": "3.6.4"
 },
 "metadata": {
  "kernelspec": {
   "display_name": "Python 3",
   "language": "python",
   "name": "python3"
  },
  "language_info": {
   "codemirror_mode": {
    "name": "ipython",
    "version": 3
   },
   "file_extension": ".py",
   "mimetype": "text/x-python",
   "name": "python",
   "nbconvert_exporter": "python",
   "pygments_lexer": "ipython3",
   "version": "3.10.12"
  },
  "papermill": {
   "default_parameters": {},
   "duration": 4.391694,
   "end_time": "2023-09-06T12:40:47.425381",
   "environment_variables": {},
   "exception": null,
   "input_path": "__notebook__.ipynb",
   "output_path": "__notebook__.ipynb",
   "parameters": {},
   "start_time": "2023-09-06T12:40:43.033687",
   "version": "2.4.0"
  }
 },
 "nbformat": 4,
 "nbformat_minor": 5
}
